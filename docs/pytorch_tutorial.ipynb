{
  "nbformat": 4,
  "nbformat_minor": 0,
  "metadata": {
    "colab": {
      "name": "confugue_tutorial.ipynb",
      "provenance": [],
      "collapsed_sections": [],
      "toc_visible": true,
      "authorship_tag": "ABX9TyOrG4XhInwPdlwBBbvtUC/H",
      "include_colab_link": true
    },
    "kernelspec": {
      "name": "python3",
      "display_name": "Python 3"
    },
    "widgets": {
      "application/vnd.jupyter.widget-state+json": {
        "e8dfe5ac9b2b4b7d9ba17ffac7599253": {
          "model_module": "@jupyter-widgets/controls",
          "model_name": "HBoxModel",
          "state": {
            "_view_name": "HBoxView",
            "_dom_classes": [],
            "_model_name": "HBoxModel",
            "_view_module": "@jupyter-widgets/controls",
            "_model_module_version": "1.5.0",
            "_view_count": null,
            "_view_module_version": "1.5.0",
            "box_style": "",
            "layout": "IPY_MODEL_42c58d2d87df48daa37dad3ab75d901f",
            "_model_module": "@jupyter-widgets/controls",
            "children": [
              "IPY_MODEL_39bbf8a2c9fd40e6906345a5ba9d3b3b",
              "IPY_MODEL_10fd57a913d44b40b30f3d05e29deebc"
            ]
          }
        },
        "42c58d2d87df48daa37dad3ab75d901f": {
          "model_module": "@jupyter-widgets/base",
          "model_name": "LayoutModel",
          "state": {
            "_view_name": "LayoutView",
            "grid_template_rows": null,
            "right": null,
            "justify_content": null,
            "_view_module": "@jupyter-widgets/base",
            "overflow": null,
            "_model_module_version": "1.2.0",
            "_view_count": null,
            "flex_flow": null,
            "width": null,
            "min_width": null,
            "border": null,
            "align_items": null,
            "bottom": null,
            "_model_module": "@jupyter-widgets/base",
            "top": null,
            "grid_column": null,
            "overflow_y": null,
            "overflow_x": null,
            "grid_auto_flow": null,
            "grid_area": null,
            "grid_template_columns": null,
            "flex": null,
            "_model_name": "LayoutModel",
            "justify_items": null,
            "grid_row": null,
            "max_height": null,
            "align_content": null,
            "visibility": null,
            "align_self": null,
            "height": null,
            "min_height": null,
            "padding": null,
            "grid_auto_rows": null,
            "grid_gap": null,
            "max_width": null,
            "order": null,
            "_view_module_version": "1.2.0",
            "grid_template_areas": null,
            "object_position": null,
            "object_fit": null,
            "grid_auto_columns": null,
            "margin": null,
            "display": null,
            "left": null
          }
        },
        "39bbf8a2c9fd40e6906345a5ba9d3b3b": {
          "model_module": "@jupyter-widgets/controls",
          "model_name": "IntProgressModel",
          "state": {
            "_view_name": "ProgressView",
            "style": "IPY_MODEL_69ff781fd2914c10a6eb98df0282fce0",
            "_dom_classes": [],
            "description": "",
            "_model_name": "IntProgressModel",
            "bar_style": "success",
            "max": 1,
            "_view_module": "@jupyter-widgets/controls",
            "_model_module_version": "1.5.0",
            "value": 1,
            "_view_count": null,
            "_view_module_version": "1.5.0",
            "orientation": "horizontal",
            "min": 0,
            "description_tooltip": null,
            "_model_module": "@jupyter-widgets/controls",
            "layout": "IPY_MODEL_0a548709d6f84ec69127d8c1545da2bf"
          }
        },
        "10fd57a913d44b40b30f3d05e29deebc": {
          "model_module": "@jupyter-widgets/controls",
          "model_name": "HTMLModel",
          "state": {
            "_view_name": "HTMLView",
            "style": "IPY_MODEL_f8a3dac5261f49a689098ebe67229aec",
            "_dom_classes": [],
            "description": "",
            "_model_name": "HTMLModel",
            "placeholder": "​",
            "_view_module": "@jupyter-widgets/controls",
            "_model_module_version": "1.5.0",
            "value": " 170500096/? [00:05&lt;00:00, 31983081.76it/s]",
            "_view_count": null,
            "_view_module_version": "1.5.0",
            "description_tooltip": null,
            "_model_module": "@jupyter-widgets/controls",
            "layout": "IPY_MODEL_21c76d27169942bcbc3f9e7fe962ac91"
          }
        },
        "69ff781fd2914c10a6eb98df0282fce0": {
          "model_module": "@jupyter-widgets/controls",
          "model_name": "ProgressStyleModel",
          "state": {
            "_view_name": "StyleView",
            "_model_name": "ProgressStyleModel",
            "description_width": "initial",
            "_view_module": "@jupyter-widgets/base",
            "_model_module_version": "1.5.0",
            "_view_count": null,
            "_view_module_version": "1.2.0",
            "bar_color": null,
            "_model_module": "@jupyter-widgets/controls"
          }
        },
        "0a548709d6f84ec69127d8c1545da2bf": {
          "model_module": "@jupyter-widgets/base",
          "model_name": "LayoutModel",
          "state": {
            "_view_name": "LayoutView",
            "grid_template_rows": null,
            "right": null,
            "justify_content": null,
            "_view_module": "@jupyter-widgets/base",
            "overflow": null,
            "_model_module_version": "1.2.0",
            "_view_count": null,
            "flex_flow": null,
            "width": null,
            "min_width": null,
            "border": null,
            "align_items": null,
            "bottom": null,
            "_model_module": "@jupyter-widgets/base",
            "top": null,
            "grid_column": null,
            "overflow_y": null,
            "overflow_x": null,
            "grid_auto_flow": null,
            "grid_area": null,
            "grid_template_columns": null,
            "flex": null,
            "_model_name": "LayoutModel",
            "justify_items": null,
            "grid_row": null,
            "max_height": null,
            "align_content": null,
            "visibility": null,
            "align_self": null,
            "height": null,
            "min_height": null,
            "padding": null,
            "grid_auto_rows": null,
            "grid_gap": null,
            "max_width": null,
            "order": null,
            "_view_module_version": "1.2.0",
            "grid_template_areas": null,
            "object_position": null,
            "object_fit": null,
            "grid_auto_columns": null,
            "margin": null,
            "display": null,
            "left": null
          }
        },
        "f8a3dac5261f49a689098ebe67229aec": {
          "model_module": "@jupyter-widgets/controls",
          "model_name": "DescriptionStyleModel",
          "state": {
            "_view_name": "StyleView",
            "_model_name": "DescriptionStyleModel",
            "description_width": "",
            "_view_module": "@jupyter-widgets/base",
            "_model_module_version": "1.5.0",
            "_view_count": null,
            "_view_module_version": "1.2.0",
            "_model_module": "@jupyter-widgets/controls"
          }
        },
        "21c76d27169942bcbc3f9e7fe962ac91": {
          "model_module": "@jupyter-widgets/base",
          "model_name": "LayoutModel",
          "state": {
            "_view_name": "LayoutView",
            "grid_template_rows": null,
            "right": null,
            "justify_content": null,
            "_view_module": "@jupyter-widgets/base",
            "overflow": null,
            "_model_module_version": "1.2.0",
            "_view_count": null,
            "flex_flow": null,
            "width": null,
            "min_width": null,
            "border": null,
            "align_items": null,
            "bottom": null,
            "_model_module": "@jupyter-widgets/base",
            "top": null,
            "grid_column": null,
            "overflow_y": null,
            "overflow_x": null,
            "grid_auto_flow": null,
            "grid_area": null,
            "grid_template_columns": null,
            "flex": null,
            "_model_name": "LayoutModel",
            "justify_items": null,
            "grid_row": null,
            "max_height": null,
            "align_content": null,
            "visibility": null,
            "align_self": null,
            "height": null,
            "min_height": null,
            "padding": null,
            "grid_auto_rows": null,
            "grid_gap": null,
            "max_width": null,
            "order": null,
            "_view_module_version": "1.2.0",
            "grid_template_areas": null,
            "object_position": null,
            "object_fit": null,
            "grid_auto_columns": null,
            "margin": null,
            "display": null,
            "left": null
          }
        }
      }
    }
  },
  "cells": [
    {
      "cell_type": "markdown",
      "metadata": {
        "id": "view-in-github",
        "colab_type": "text"
      },
      "source": [
        "<a href=\"https://colab.research.google.com/github/cifkao/confugue/blob/colab/docs/pytorch_tutorial.ipynb\" target=\"_parent\"><img src=\"https://colab.research.google.com/assets/colab-badge.svg\" alt=\"Open In Colab\"/></a>"
      ]
    },
    {
      "cell_type": "markdown",
      "metadata": {
        "id": "oxoG-AkYrgF_",
        "colab_type": "text"
      },
      "source": [
        "# Confugue\n",
        "\n",
        "- Installation: `pip install confugue`\n",
        "- Docs: [confugue.readthedocs.io](https://confugue.readthedocs.io/)\n",
        "- Code: [github.com/cifkao/confugue](https://github.com/cifkao/confugue)\n",
        "\n",
        "Confugue is a **hierarchical configuration framework** for Python. It provides a wrapper class for **nested configuration dictionaries** (usually loaded from YAML files), which can be used to easily configure complicated object hierarchies.\n",
        "\n",
        "This notebook is intended as a quick start guide for **deep learning** users. It uses PyTorch for example purposes, but it should be easy to follow even for people working with other frameworks like TensorFlow. It should also be stressed that Confugue is in no way limited to deep learning applications, and a [getting started guide](https://confugue.readthedocs.io/en/latest/general-guide.html) for general Python users is available."
      ]
    },
    {
      "cell_type": "code",
      "metadata": {
        "id": "ssgW214GvgwE",
        "colab_type": "code",
        "cellView": "both",
        "colab": {}
      },
      "source": [
        "!pip install confugue"
      ],
      "execution_count": 0,
      "outputs": []
    },
    {
      "cell_type": "markdown",
      "metadata": {
        "id": "Bp-tFUjQvTWr",
        "colab_type": "text"
      },
      "source": [
        "## Basic PyTorch example\n",
        "We are going to start with a basic PyTorch model, adapted from the [CIFAR-10 tutorial](https://pytorch.org/tutorials/beginner/blitz/cifar10_tutorial.html). First, let's see how we would code the model *without* using Confugue."
      ]
    },
    {
      "cell_type": "code",
      "metadata": {
        "id": "NFPP6AlRwY0J",
        "colab_type": "code",
        "colab": {}
      },
      "source": [
        "import torch\n",
        "from torch import nn"
      ],
      "execution_count": 0,
      "outputs": []
    },
    {
      "cell_type": "code",
      "metadata": {
        "id": "jQz5pD3Rwc-T",
        "colab_type": "code",
        "colab": {}
      },
      "source": [
        "class Net(nn.Module):\n",
        "\n",
        "    def __init__(self):\n",
        "        super(Net, self).__init__()\n",
        "        self.conv1 = nn.Conv2d(3, 6, 5)\n",
        "        self.conv2 = nn.Conv2d(6, 16, 5)\n",
        "        self.pool = nn.MaxPool2d(2, 2)\n",
        "        self.fc1 = nn.Linear(400, 120)\n",
        "        self.fc2 = nn.Linear(120, 10)\n",
        "        self.act = nn.ReLU()\n",
        "\n",
        "    def forward(self, x):\n",
        "        x = self.pool(self.act(self.conv1(x)))\n",
        "        x = self.pool(self.act(self.conv2(x)))\n",
        "        x = x.flatten(start_dim=1)\n",
        "        x = self.act(self.fc1(x))\n",
        "        x = self.fc2(x)\n",
        "        return x"
      ],
      "execution_count": 0,
      "outputs": []
    },
    {
      "cell_type": "markdown",
      "metadata": {
        "id": "5WhqzPywxnQU",
        "colab_type": "text"
      },
      "source": [
        "### Making it configurable\n",
        "Instead of hard-coding all the hyperparameters like above, we want to be able to specify them in a configuration file. To do so, we are going to decorate our class with the `@configurable` decorator. This provides it with a magic `_cfg` property, giving it access to the configuration. We can then rewrite our `__init__` as follows:"
      ]
    },
    {
      "cell_type": "code",
      "metadata": {
        "id": "kOjVsNBSxsWh",
        "colab_type": "code",
        "colab": {}
      },
      "source": [
        "from confugue import configurable, Configuration"
      ],
      "execution_count": 0,
      "outputs": []
    },
    {
      "cell_type": "code",
      "metadata": {
        "id": "cDbO0TQBxyu8",
        "colab_type": "code",
        "colab": {}
      },
      "source": [
        "@configurable\n",
        "class Net(nn.Module):\n",
        "\n",
        "    def __init__(self):\n",
        "        super(Net, self).__init__()\n",
        "        self.conv1 = self._cfg['conv1'].configure(nn.Conv2d, in_channels=3)\n",
        "        self.conv2 = self._cfg['conv2'].configure(nn.Conv2d)\n",
        "        self.pool = self._cfg['pool'].configure(nn.MaxPool2d)\n",
        "        self.fc1 = self._cfg['fc1'].configure(nn.Linear)\n",
        "        self.fc2 = self._cfg['fc2'].configure(nn.Linear, out_features=10)\n",
        "        self.act = self._cfg['act'].configure(nn.ReLU)\n",
        "\n",
        "    def forward(self, x):\n",
        "        x = self.pool(self.act(self.conv1(x)))\n",
        "        x = self.pool(self.act(self.conv2(x)))\n",
        "        x = x.flatten(start_dim=1)\n",
        "        x = self.act(self.fc1(x))\n",
        "        x = self.fc2(x)\n",
        "        return x"
      ],
      "execution_count": 0,
      "outputs": []
    },
    {
      "cell_type": "markdown",
      "metadata": {
        "id": "vR3t4og6ninS",
        "colab_type": "text"
      },
      "source": [
        "Instead of creating each layer directly, we configure it with values from the corresponding section of the configuration file (which we will see in a moment). Notice that we can still specify arguments in the code (e.g. `in_channels=3` for the `conv1` layer), but these are treated as defaults and can be overridden in the configuration file if needed."
      ]
    },
    {
      "cell_type": "markdown",
      "metadata": {
        "id": "2OGCYOEK3Dz5",
        "colab_type": "text"
      },
      "source": [
        "### Loading configuration from a YAML file\n",
        "Calling `Net()` directly would result in an error, since we haven't specified defaults for all the required parameters of each layer.\n",
        "We therefore need to create a configuration file to supply them:"
      ]
    },
    {
      "cell_type": "code",
      "metadata": {
        "id": "l5HJiqwvyruu",
        "colab_type": "code",
        "outputId": "5346a39f-f78a-4493-9510-c1b9d0b92d03",
        "colab": {
          "base_uri": "https://localhost:8080/",
          "height": 35
        }
      },
      "source": [
        "%%writefile config.yaml\n",
        "conv1:\n",
        "  out_channels: 6\n",
        "  kernel_size: 5\n",
        "conv2:\n",
        "  in_channels: 6\n",
        "  out_channels: 16\n",
        "  kernel_size: 5\n",
        "pool:\n",
        "  kernel_size: 2\n",
        "  stride: 2\n",
        "fc1:\n",
        "  in_features: 400\n",
        "  out_features: 120\n",
        "fc2:\n",
        "  in_features: 120\n",
        "\n",
        "# Note that we do not need to include the activation function ('act'), since it does not have any\n",
        "# required parameters. We could, however, override the type of the activation function itself\n",
        "# as follows:\n",
        "\n",
        "# act:\n",
        "#   class: !!python/name:torch.nn.Tanh"
      ],
      "execution_count": 0,
      "outputs": [
        {
          "output_type": "stream",
          "text": [
            "Writing config.yaml\n"
          ],
          "name": "stdout"
        }
      ]
    },
    {
      "cell_type": "markdown",
      "metadata": {
        "id": "ajtknZtaqd4H",
        "colab_type": "text"
      },
      "source": [
        "We are now ready to load the file into a `Configuration` object and use it to configure our network:"
      ]
    },
    {
      "cell_type": "code",
      "metadata": {
        "id": "RtoXqZwm0_Bi",
        "colab_type": "code",
        "outputId": "99822892-815e-4b00-a093-1529c29ffd7b",
        "colab": {
          "base_uri": "https://localhost:8080/",
          "height": 55
        }
      },
      "source": [
        "cfg = Configuration.from_yaml_file('config.yaml')\n",
        "cfg"
      ],
      "execution_count": 0,
      "outputs": [
        {
          "output_type": "execute_result",
          "data": {
            "text/plain": [
              "Configuration({'conv1': {'out_channels': 6, 'kernel_size': 5}, 'conv2': {'in_channels': 6, 'out_channels': 16, 'kernel_size': 5}, 'pool': {'kernel_size': 2, 'stride': 2}, 'fc1': {'in_features': 400, 'out_features': 120}, 'fc2': {'in_features': 120}})"
            ]
          },
          "metadata": {
            "tags": []
          },
          "execution_count": 11
        }
      ]
    },
    {
      "cell_type": "code",
      "metadata": {
        "id": "7UKki67T2joX",
        "colab_type": "code",
        "outputId": "ed4b6f05-1ae7-457f-e929-53db80f7635f",
        "colab": {
          "base_uri": "https://localhost:8080/",
          "height": 160
        }
      },
      "source": [
        "cfg.configure(Net)"
      ],
      "execution_count": 0,
      "outputs": [
        {
          "output_type": "execute_result",
          "data": {
            "text/plain": [
              "Net(\n",
              "  (conv1): Conv2d(3, 6, kernel_size=(5, 5), stride=(1, 1))\n",
              "  (conv2): Conv2d(6, 16, kernel_size=(5, 5), stride=(1, 1))\n",
              "  (pool): MaxPool2d(kernel_size=2, stride=2, padding=0, dilation=1, ceil_mode=False)\n",
              "  (fc1): Linear(in_features=400, out_features=120, bias=True)\n",
              "  (fc2): Linear(in_features=120, out_features=10, bias=True)\n",
              "  (act): ReLU()\n",
              ")"
            ]
          },
          "metadata": {
            "tags": []
          },
          "execution_count": 12
        }
      ]
    },
    {
      "cell_type": "markdown",
      "metadata": {
        "id": "5YsfvyE23lAw",
        "colab_type": "text"
      },
      "source": [
        "## Nested configurables\n",
        "One of the most useful features of Confugue is that `@configurable` classes and functions can use other configurables, and the structure of the configuration file will naturally follow this hierarchy. To see this in action, we are going to write a configurable `main` function which trains our simple model on the CIFAR-10 dataset."
      ]
    },
    {
      "cell_type": "code",
      "metadata": {
        "id": "u6D1GX-v4T3Q",
        "colab_type": "code",
        "colab": {}
      },
      "source": [
        "import torchvision\n",
        "from torchvision import transforms\n",
        "\n",
        "@configurable\n",
        "def main(num_epochs=1, log_period=2000, *, _cfg):\n",
        "    net = _cfg['net'].configure(Net)\n",
        "    criterion = _cfg['loss'].configure(nn.CrossEntropyLoss)\n",
        "    optimizer = _cfg['optimizer'].configure(torch.optim.SGD, params=net.parameters(), lr=0.001)\n",
        "\n",
        "    transform = transforms.Compose(\n",
        "        [transforms.ToTensor(),\n",
        "         transforms.Normalize((0.5, 0.5, 0.5), (0.5, 0.5, 0.5))])\n",
        "    train_data = torchvision.datasets.CIFAR10(root='./data', train=True, download=True,\n",
        "                                              transform=transform)\n",
        "    train_loader = _cfg['data_loader'].configure(torch.utils.data.DataLoader, dataset=train_data,\n",
        "                                                 batch_size=4, shuffle=True, num_workers=2)\n",
        "  \n",
        "    for epoch in range(num_epochs):\n",
        "        for i, batch in enumerate(train_loader):\n",
        "            inputs, labels = batch\n",
        "            optimizer.zero_grad()\n",
        "            loss = criterion(net(inputs), labels)\n",
        "            loss.backward()\n",
        "            optimizer.step()\n",
        "\n",
        "            if (i + 1) % log_period == 0:\n",
        "                print(i + 1, loss.item())"
      ],
      "execution_count": 0,
      "outputs": []
    },
    {
      "cell_type": "code",
      "metadata": {
        "id": "iLv8a7xA7tGp",
        "colab_type": "code",
        "outputId": "17cb3a81-191b-45c2-a350-a2c226377de7",
        "colab": {
          "base_uri": "https://localhost:8080/",
          "height": 35
        }
      },
      "source": [
        "%%writefile config.yaml\n",
        "net:\n",
        "  conv1:\n",
        "    out_channels: 6\n",
        "    kernel_size: 5\n",
        "  conv2:\n",
        "    in_channels: 6\n",
        "    out_channels: 16\n",
        "    kernel_size: 5\n",
        "  pool:\n",
        "    kernel_size: 2\n",
        "    stride: 2\n",
        "  fc1:\n",
        "    in_features: 400\n",
        "    out_features: 120\n",
        "  fc2:\n",
        "    in_features: 120\n",
        "\n",
        "optimizer:\n",
        "  class: !!python/name:torch.optim.Adam\n",
        "data_loader:\n",
        "  batch_size: 8\n",
        "num_epochs: 2\n",
        "log_period: 1000"
      ],
      "execution_count": 0,
      "outputs": [
        {
          "output_type": "stream",
          "text": [
            "Overwriting config.yaml\n"
          ],
          "name": "stdout"
        }
      ]
    },
    {
      "cell_type": "code",
      "metadata": {
        "id": "ij_Nfdz58IsD",
        "colab_type": "code",
        "outputId": "169c41aa-155d-4e7f-ff91-7cc12a767c1e",
        "colab": {
          "base_uri": "https://localhost:8080/",
          "height": 317,
          "referenced_widgets": [
            "e8dfe5ac9b2b4b7d9ba17ffac7599253",
            "42c58d2d87df48daa37dad3ab75d901f",
            "39bbf8a2c9fd40e6906345a5ba9d3b3b",
            "10fd57a913d44b40b30f3d05e29deebc",
            "69ff781fd2914c10a6eb98df0282fce0",
            "0a548709d6f84ec69127d8c1545da2bf",
            "f8a3dac5261f49a689098ebe67229aec",
            "21c76d27169942bcbc3f9e7fe962ac91"
          ]
        }
      },
      "source": [
        "cfg = Configuration.from_yaml_file('config.yaml')\n",
        "cfg.configure(main)"
      ],
      "execution_count": 0,
      "outputs": [
        {
          "output_type": "stream",
          "text": [
            "Downloading https://www.cs.toronto.edu/~kriz/cifar-10-python.tar.gz to ./data/cifar-10-python.tar.gz\n"
          ],
          "name": "stdout"
        },
        {
          "output_type": "display_data",
          "data": {
            "application/vnd.jupyter.widget-view+json": {
              "model_id": "e8dfe5ac9b2b4b7d9ba17ffac7599253",
              "version_minor": 0,
              "version_major": 2
            },
            "text/plain": [
              "HBox(children=(IntProgress(value=1, bar_style='info', max=1), HTML(value='')))"
            ]
          },
          "metadata": {
            "tags": []
          }
        },
        {
          "output_type": "stream",
          "text": [
            "Extracting ./data/cifar-10-python.tar.gz to ./data\n",
            "\n",
            "1000 2.183788537979126\n",
            "2000 2.050525665283203\n",
            "3000 1.366685390472412\n",
            "4000 1.4100595712661743\n",
            "5000 1.7879905700683594\n",
            "6000 1.708138108253479\n",
            "1000 1.5253592729568481\n",
            "2000 1.24685800075531\n",
            "3000 1.349258303642273\n",
            "4000 1.4699578285217285\n",
            "5000 1.6091036796569824\n",
            "6000 0.9718704223632812\n"
          ],
          "name": "stdout"
        }
      ]
    },
    {
      "cell_type": "markdown",
      "metadata": {
        "id": "JlyBZSNAC5UK",
        "colab_type": "text"
      },
      "source": [
        "## Configuring lists\n",
        "The `configure_list` method allows us to configure a list of objects, with the parameters for each supplied from the configuration file. We are going to use this, in conjunction with `nn.Sequential`, to fully specify the model in the configuration file, so we won't need our `Net` class anymore."
      ]
    },
    {
      "cell_type": "code",
      "metadata": {
        "id": "ZOr2UMx1DC9B",
        "colab_type": "code",
        "outputId": "554cdad3-c308-4ffb-a8dd-715c0ef62c71",
        "colab": {
          "base_uri": "https://localhost:8080/",
          "height": 35
        }
      },
      "source": [
        "%%writefile config.yaml\n",
        "layers:\n",
        "  - class: !!python/name:torch.nn.Conv2d\n",
        "    in_channels: 3\n",
        "    out_channels: 6\n",
        "    kernel_size: 5\n",
        "  - class: !!python/name:torch.nn.ReLU\n",
        "  - class: !!python/name:torch.nn.MaxPool2d\n",
        "    kernel_size: 2\n",
        "    stride: 2\n",
        "  - class: !!python/name:torch.nn.Conv2d\n",
        "    in_channels: 6\n",
        "    out_channels: 16\n",
        "    kernel_size: 5\n",
        "  - class: !!python/name:torch.nn.ReLU\n",
        "  - class: !!python/name:torch.nn.MaxPool2d\n",
        "    kernel_size: 2\n",
        "    stride: 2\n",
        "  - class: !!python/name:torch.nn.Flatten\n",
        "  - class: !!python/name:torch.nn.Linear\n",
        "    in_features: 400\n",
        "    out_features: 120\n",
        "  - class: !!python/name:torch.nn.ReLU\n",
        "  - class: !!python/name:torch.nn.Linear\n",
        "    in_features: 120\n",
        "    out_features: 10"
      ],
      "execution_count": 0,
      "outputs": [
        {
          "output_type": "stream",
          "text": [
            "Writing config.yaml\n"
          ],
          "name": "stdout"
        }
      ]
    },
    {
      "cell_type": "markdown",
      "metadata": {
        "id": "rKF8QjVPyssu",
        "colab_type": "text"
      },
      "source": [
        "Creating the model then becomes a matter of two lines of code:"
      ]
    },
    {
      "cell_type": "code",
      "metadata": {
        "id": "VT9g-sOsEAYk",
        "colab_type": "code",
        "outputId": "01731ee6-c9ad-40f0-e171-93155e8f9a81",
        "colab": {
          "base_uri": "https://localhost:8080/",
          "height": 229
        }
      },
      "source": [
        "cfg = Configuration.from_yaml_file('config.yaml')\n",
        "nn.Sequential(*cfg['layers'].configure_list())"
      ],
      "execution_count": 0,
      "outputs": [
        {
          "output_type": "execute_result",
          "data": {
            "text/plain": [
              "Sequential(\n",
              "  (0): Conv2d(3, 6, kernel_size=(5, 5), stride=(1, 1))\n",
              "  (1): ReLU()\n",
              "  (2): MaxPool2d(kernel_size=2, stride=2, padding=0, dilation=1, ceil_mode=False)\n",
              "  (3): Conv2d(6, 16, kernel_size=(5, 5), stride=(1, 1))\n",
              "  (4): ReLU()\n",
              "  (5): MaxPool2d(kernel_size=2, stride=2, padding=0, dilation=1, ceil_mode=False)\n",
              "  (6): Flatten()\n",
              "  (7): Linear(in_features=400, out_features=120, bias=True)\n",
              "  (8): ReLU()\n",
              "  (9): Linear(in_features=120, out_features=10, bias=True)\n",
              ")"
            ]
          },
          "metadata": {
            "tags": []
          },
          "execution_count": 14
        }
      ]
    },
    {
      "cell_type": "markdown",
      "metadata": {
        "id": "vdCdiFT2y00-",
        "colab_type": "text"
      },
      "source": [
        "This offers a lot of flexibility, but it should be used with care. If your configuration file is longer than your code, you might be overusing it."
      ]
    },
    {
      "cell_type": "markdown",
      "metadata": {
        "id": "VfcYJa0mzuLe",
        "colab_type": "text"
      },
      "source": [
        "## Further reading\n",
        "Confugue offers a couple more useful features, which are described [in the documentation](https://confugue.readthedocs.io/en/latest/more-features.html). You can also check out the [API reference](https://confugue.readthedocs.io/en/latest/api.html)."
      ]
    }
  ]
}